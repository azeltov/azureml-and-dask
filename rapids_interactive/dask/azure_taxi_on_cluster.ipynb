{
 "cells": [
  {
   "cell_type": "markdown",
   "metadata": {},
   "source": [
    "## NYC Taxi dataset analysis\n",
    "\n",
    "This notenook should be run from the Jupypter Server deployed on the AzureML Cluster\n",
    "\n",
    "First get the run object for the cluster we are running on (this will fail if not run on the cluster):"
   ]
  },
  {
   "cell_type": "code",
   "execution_count": 9,
   "metadata": {},
   "outputs": [
    {
     "data": {
      "text/plain": [
       "{'headnode': '172.17.0.7',\n",
       " 'scheduler': '172.17.0.7:8786',\n",
       " 'dashboard': '172.17.0.7:8787',\n",
       " 'data': '/mnt/batch/tasks/shared/LS_root/jobs/vnettest/azureml/init-dask-jupyter_1569837452_781f9040/mounts/workspaceblobstore',\n",
       " 'jupyter-server': ['http://172.17.0.7:8888/?token=328966d31212f8eebaea6b4df97c2bfbbc9819d2dc7049c2',\n",
       "  'http://172.17.0.7:8889/?token=a8c3ecc047365ec1b65bf7d6dce1ef44c1161f7b2f3a3c1c',\n",
       "  'http://172.17.0.7:8890/?token=2c572c6a478a93402e22baae68e31618d7fa839097740e79']}"
      ]
     },
     "execution_count": 9,
     "metadata": {},
     "output_type": "execute_result"
    }
   ],
   "source": [
    "from azureml.core import Run\n",
    "run = Run.get_context()\n",
    "run.get_metrics()"
   ]
  },
  {
   "cell_type": "markdown",
   "metadata": {},
   "source": [
    "Fetch the list of data files from the mounted share:"
   ]
  },
  {
   "cell_type": "code",
   "execution_count": 10,
   "metadata": {},
   "outputs": [
    {
     "data": {
      "text/plain": [
       "['yellow_tripdata_2015-10.csv',\n",
       " 'yellow_tripdata_2015-04.csv',\n",
       " 'yellow_tripdata_2015-03.csv',\n",
       " 'yellow_tripdata_2015-08.csv',\n",
       " 'yellow_tripdata_2015-07.csv',\n",
       " 'yellow_tripdata_2015-09.csv',\n",
       " 'yellow_tripdata_2015-01.csv',\n",
       " 'yellow_tripdata_2015-02.csv',\n",
       " 'yellow_tripdata_2015-05.csv',\n",
       " 'yellow_tripdata_2015-06.csv',\n",
       " 'yellow_tripdata_2015-11.csv',\n",
       " 'yellow_tripdata_2015-12.csv']"
      ]
     },
     "execution_count": 10,
     "metadata": {},
     "output_type": "execute_result"
    }
   ],
   "source": [
    "import os\n",
    "filenames = os.listdir(run.get_metrics()['data'] + '/nyctaxi')\n",
    "filenames"
   ]
  },
  {
   "cell_type": "markdown",
   "metadata": {},
   "source": [
    "### Get the cluster client\n",
    "Since this jupyter server is running on the scheduler node of the cluster, we just need to connect to localhost."
   ]
  },
  {
   "cell_type": "code",
   "execution_count": 11,
   "metadata": {},
   "outputs": [
    {
     "data": {
      "text/html": [
       "<table style=\"border: 2px solid white;\">\n",
       "<tr>\n",
       "<td style=\"vertical-align: top; border: 0px solid white\">\n",
       "<h3 style=\"text-align: left;\">Client</h3>\n",
       "<ul style=\"text-align: left; list-style: none; margin: 0; padding: 0;\">\n",
       "  <li><b>Scheduler: </b>tcp://172.17.0.7:8786</li>\n",
       "  <li><b>Dashboard: </b><a href='http://172.17.0.7:8787/status' target='_blank'>http://172.17.0.7:8787/status</a>\n",
       "</ul>\n",
       "</td>\n",
       "<td style=\"vertical-align: top; border: 0px solid white\">\n",
       "<h3 style=\"text-align: left;\">Cluster</h3>\n",
       "<ul style=\"text-align: left; list-style:none; margin: 0; padding: 0;\">\n",
       "  <li><b>Workers: </b>6</li>\n",
       "  <li><b>Cores: </b>6</li>\n",
       "  <li><b>Memory: </b>0 B</li>\n",
       "</ul>\n",
       "</td>\n",
       "</tr>\n",
       "</table>"
      ],
      "text/plain": [
       "<Client: scheduler='tcp://172.17.0.7:8786' processes=6 cores=6>"
      ]
     },
     "execution_count": 11,
     "metadata": {},
     "output_type": "execute_result"
    }
   ],
   "source": [
    "import distributed\n",
    "client = distributed.Client('tcp://localhost:8786')\n",
    "client"
   ]
  },
  {
   "cell_type": "code",
   "execution_count": 12,
   "metadata": {},
   "outputs": [
    {
     "name": "stdout",
     "output_type": "stream",
     "text": [
      "- setting dask settings\n",
      "-- Changes to dask settings\n",
      "--- Setting work-stealing to  False\n",
      "--- Setting scheduler bandwidth to  1\n",
      "-- Settings updates complete\n"
     ]
    }
   ],
   "source": [
    "import dask\n",
    "\n",
    "print(\"- setting dask settings\")\n",
    "dask.config.set({'distributed.scheduler.work-stealing': False})\n",
    "dask.config.set({'distributed.scheduler.bandwidth': 1})\n",
    "\n",
    "print(\"-- Changes to dask settings\")\n",
    "print(\"--- Setting work-stealing to \", dask.config.get('distributed.scheduler.work-stealing'))\n",
    "print(\"--- Setting scheduler bandwidth to \", dask.config.get('distributed.scheduler.bandwidth'))\n",
    "print(\"-- Settings updates complete\")"
   ]
  },
  {
   "cell_type": "code",
   "execution_count": 42,
   "metadata": {},
   "outputs": [],
   "source": [
    "# helper function which takes a DataFrame partition\n",
    "def clean(df_part, remap, must_haves):    \n",
    "    # some col-names include pre-pended spaces remove & lowercase column names\n",
    "    tmp = {col:col.strip().lower() for col in list(df_part.columns)}\n",
    "    df_part = df_part.rename(tmp)\n",
    "    \n",
    "    # rename using the supplied mapping\n",
    "    df_part = df_part.rename(remap)\n",
    "    \n",
    "    # iterate through columns in this df partition\n",
    "    for col in df_part.columns:\n",
    "        # drop anything not in our expected list\n",
    "        if col not in must_haves:\n",
    "            df_part = df_part.drop(col)\n",
    "            continue\n",
    "\n",
    "        if df_part[col].dtype == 'object' and col in ['pickup_datetime', 'dropoff_datetime']:\n",
    "            df_part[col] = df_part[col].astype('datetime64[ms]')\n",
    "            continue\n",
    "            \n",
    "        # if column was read as a string, recast as float\n",
    "        if df_part[col].dtype == 'object':\n",
    "            df_part[col] = df_part[col].str.fillna('-1')\n",
    "            df_part[col] = df_part[col].astype('float32')\n",
    "        else:\n",
    "            # downcast from 64bit to 32bit types\n",
    "            # Tesla T4 are faster on 32bit ops\n",
    "            if 'int' in str(df_part[col].dtype):\n",
    "                df_part[col] = df_part[col].astype('int32')\n",
    "            if 'float' in str(df_part[col].dtype):\n",
    "                df_part[col] = df_part[col].astype('float32')\n",
    "            df_part[col] = df_part[col].fillna(-1)\n",
    "\n",
    "    return df_part"
   ]
  },
  {
   "cell_type": "code",
   "execution_count": 43,
   "metadata": {},
   "outputs": [],
   "source": [
    "import os\n",
    "import cudf\n",
    "\n",
    "def read_csv(path):\n",
    "    import cudf\n",
    "    # list of column names that need to be re-mapped\n",
    "    remap = {}\n",
    "    remap['tpep_pickup_datetime'] = 'pickup_datetime'\n",
    "    remap['tpep_dropoff_datetime'] = 'dropoff_datetime'\n",
    "    remap['ratecodeid'] = 'rate_code'\n",
    "\n",
    "    #create a list of columns & dtypes the df must have\n",
    "    must_haves = {\n",
    "     'pickup_datetime': 'datetime64[ms]',\n",
    "     'dropoff_datetime': 'datetime64[ms]',\n",
    "     'passenger_count': 'int32',\n",
    "     'trip_distance': 'float32',\n",
    "     'pickup_longitude': 'float32',\n",
    "     'pickup_latitude': 'float32',\n",
    "     'rate_code': 'int32',\n",
    "     'dropoff_longitude': 'float32',\n",
    "     'dropoff_latitude': 'float32',\n",
    "     'fare_amount': 'float32'\n",
    "    }\n",
    "    \n",
    "    df = cudf.read_csv(path)\n",
    "    return clean(df, remap, must_haves)\n",
    "\n",
    "paths = [os.path.join(run.get_metrics()[\"data\"], \"nyctaxi/\") + filename for filename in filenames]\n",
    "data_paths = client.scatter(paths)\n",
    "dfs = [client.submit(read_csv, data_path) for data_path in data_paths]"
   ]
  },
  {
   "cell_type": "code",
   "execution_count": 44,
   "metadata": {
    "scrolled": false
   },
   "outputs": [],
   "source": [
    "import dask_cudf\n",
    "\n",
    "taxi_df = dask_cudf.from_delayed(dfs)"
   ]
  },
  {
   "cell_type": "code",
   "execution_count": 45,
   "metadata": {},
   "outputs": [
    {
     "data": {
      "text/html": [
       "<div>\n",
       "<style scoped>\n",
       "    .dataframe tbody tr th:only-of-type {\n",
       "        vertical-align: middle;\n",
       "    }\n",
       "\n",
       "    .dataframe tbody tr th {\n",
       "        vertical-align: top;\n",
       "    }\n",
       "\n",
       "    .dataframe thead th {\n",
       "        text-align: right;\n",
       "    }\n",
       "</style>\n",
       "<table border=\"1\" class=\"dataframe\">\n",
       "  <thead>\n",
       "    <tr style=\"text-align: right;\">\n",
       "      <th></th>\n",
       "      <th>pickup_datetime</th>\n",
       "      <th>dropoff_datetime</th>\n",
       "      <th>passenger_count</th>\n",
       "      <th>trip_distance</th>\n",
       "      <th>pickup_longitude</th>\n",
       "      <th>pickup_latitude</th>\n",
       "      <th>rate_code</th>\n",
       "      <th>dropoff_longitude</th>\n",
       "      <th>dropoff_latitude</th>\n",
       "      <th>fare_amount</th>\n",
       "    </tr>\n",
       "  </thead>\n",
       "  <tbody>\n",
       "    <tr>\n",
       "      <th>0</th>\n",
       "      <td>2015-10-01 00:00:00</td>\n",
       "      <td>2015-10-01 00:05:48</td>\n",
       "      <td>1</td>\n",
       "      <td>1.10</td>\n",
       "      <td>-73.935516</td>\n",
       "      <td>40.761238</td>\n",
       "      <td>1</td>\n",
       "      <td>-73.944351</td>\n",
       "      <td>40.754578</td>\n",
       "      <td>6.00</td>\n",
       "    </tr>\n",
       "    <tr>\n",
       "      <th>1</th>\n",
       "      <td>2015-10-01 00:00:00</td>\n",
       "      <td>2015-10-01 00:00:00</td>\n",
       "      <td>1</td>\n",
       "      <td>7.68</td>\n",
       "      <td>-73.989937</td>\n",
       "      <td>40.743439</td>\n",
       "      <td>1</td>\n",
       "      <td>-73.986687</td>\n",
       "      <td>40.689129</td>\n",
       "      <td>27.50</td>\n",
       "    </tr>\n",
       "    <tr>\n",
       "      <th>2</th>\n",
       "      <td>2015-10-01 00:00:00</td>\n",
       "      <td>2015-10-01 00:00:00</td>\n",
       "      <td>2</td>\n",
       "      <td>2.53</td>\n",
       "      <td>-73.987328</td>\n",
       "      <td>40.720020</td>\n",
       "      <td>1</td>\n",
       "      <td>-73.999084</td>\n",
       "      <td>40.744381</td>\n",
       "      <td>12.50</td>\n",
       "    </tr>\n",
       "    <tr>\n",
       "      <th>3</th>\n",
       "      <td>2015-10-01 00:00:00</td>\n",
       "      <td>2015-10-01 00:00:00</td>\n",
       "      <td>0</td>\n",
       "      <td>1.20</td>\n",
       "      <td>-73.953758</td>\n",
       "      <td>40.743385</td>\n",
       "      <td>5</td>\n",
       "      <td>-73.930008</td>\n",
       "      <td>40.736622</td>\n",
       "      <td>25.26</td>\n",
       "    </tr>\n",
       "    <tr>\n",
       "      <th>4</th>\n",
       "      <td>2015-10-01 00:00:01</td>\n",
       "      <td>2015-10-01 00:16:19</td>\n",
       "      <td>1</td>\n",
       "      <td>3.80</td>\n",
       "      <td>-73.984016</td>\n",
       "      <td>40.755222</td>\n",
       "      <td>1</td>\n",
       "      <td>-73.959869</td>\n",
       "      <td>40.801323</td>\n",
       "      <td>15.50</td>\n",
       "    </tr>\n",
       "  </tbody>\n",
       "</table>\n",
       "</div>"
      ],
      "text/plain": [
       "      pickup_datetime    dropoff_datetime  passenger_count  trip_distance  \\\n",
       "0 2015-10-01 00:00:00 2015-10-01 00:05:48                1           1.10   \n",
       "1 2015-10-01 00:00:00 2015-10-01 00:00:00                1           7.68   \n",
       "2 2015-10-01 00:00:00 2015-10-01 00:00:00                2           2.53   \n",
       "3 2015-10-01 00:00:00 2015-10-01 00:00:00                0           1.20   \n",
       "4 2015-10-01 00:00:01 2015-10-01 00:16:19                1           3.80   \n",
       "\n",
       "   pickup_longitude  pickup_latitude  rate_code  dropoff_longitude  \\\n",
       "0        -73.935516        40.761238          1         -73.944351   \n",
       "1        -73.989937        40.743439          1         -73.986687   \n",
       "2        -73.987328        40.720020          1         -73.999084   \n",
       "3        -73.953758        40.743385          5         -73.930008   \n",
       "4        -73.984016        40.755222          1         -73.959869   \n",
       "\n",
       "   dropoff_latitude  fare_amount  \n",
       "0         40.754578         6.00  \n",
       "1         40.689129        27.50  \n",
       "2         40.744381        12.50  \n",
       "3         40.736622        25.26  \n",
       "4         40.801323        15.50  "
      ]
     },
     "execution_count": 45,
     "metadata": {},
     "output_type": "execute_result"
    }
   ],
   "source": [
    "taxi_df.head()"
   ]
  },
  {
   "cell_type": "code",
   "execution_count": 48,
   "metadata": {},
   "outputs": [],
   "source": [
    "import numpy as np\n",
    "import numba, xgboost, socket\n",
    "import dask, dask_cudf\n",
    "from dask.distributed import Client, wait"
   ]
  },
  {
   "cell_type": "code",
   "execution_count": 49,
   "metadata": {},
   "outputs": [
    {
     "data": {
      "text/plain": [
       "Index(['pickup_datetime', 'dropoff_datetime', 'passenger_count',\n",
       "       'trip_distance', 'pickup_longitude', 'pickup_latitude', 'rate_code',\n",
       "       'dropoff_longitude', 'dropoff_latitude', 'fare_amount'],\n",
       "      dtype='object')"
      ]
     },
     "execution_count": 49,
     "metadata": {},
     "output_type": "execute_result"
    }
   ],
   "source": [
    "taxi_df.columns"
   ]
  },
  {
   "cell_type": "code",
   "execution_count": 50,
   "metadata": {},
   "outputs": [
    {
     "data": {
      "text/html": [
       "<div>\n",
       "<style scoped>\n",
       "    .dataframe tbody tr th:only-of-type {\n",
       "        vertical-align: middle;\n",
       "    }\n",
       "\n",
       "    .dataframe tbody tr th {\n",
       "        vertical-align: top;\n",
       "    }\n",
       "\n",
       "    .dataframe thead th {\n",
       "        text-align: right;\n",
       "    }\n",
       "</style>\n",
       "<table border=\"1\" class=\"dataframe\">\n",
       "  <thead>\n",
       "    <tr style=\"text-align: right;\">\n",
       "      <th></th>\n",
       "      <th>pickup_datetime</th>\n",
       "      <th>dropoff_datetime</th>\n",
       "      <th>passenger_count</th>\n",
       "      <th>trip_distance</th>\n",
       "      <th>pickup_longitude</th>\n",
       "      <th>pickup_latitude</th>\n",
       "      <th>rate_code</th>\n",
       "      <th>dropoff_longitude</th>\n",
       "      <th>dropoff_latitude</th>\n",
       "      <th>fare_amount</th>\n",
       "    </tr>\n",
       "  </thead>\n",
       "  <tbody>\n",
       "    <tr>\n",
       "      <th>0</th>\n",
       "      <td>2015-10-01 00:00:00</td>\n",
       "      <td>2015-10-01 00:05:48</td>\n",
       "      <td>1</td>\n",
       "      <td>1.10</td>\n",
       "      <td>-73.935516</td>\n",
       "      <td>40.761238</td>\n",
       "      <td>1</td>\n",
       "      <td>-73.944351</td>\n",
       "      <td>40.754578</td>\n",
       "      <td>6.0</td>\n",
       "    </tr>\n",
       "    <tr>\n",
       "      <th>1</th>\n",
       "      <td>2015-10-01 00:00:00</td>\n",
       "      <td>2015-10-01 00:00:00</td>\n",
       "      <td>1</td>\n",
       "      <td>7.68</td>\n",
       "      <td>-73.989937</td>\n",
       "      <td>40.743439</td>\n",
       "      <td>1</td>\n",
       "      <td>-73.986687</td>\n",
       "      <td>40.689129</td>\n",
       "      <td>27.5</td>\n",
       "    </tr>\n",
       "    <tr>\n",
       "      <th>2</th>\n",
       "      <td>2015-10-01 00:00:00</td>\n",
       "      <td>2015-10-01 00:00:00</td>\n",
       "      <td>2</td>\n",
       "      <td>2.53</td>\n",
       "      <td>-73.987328</td>\n",
       "      <td>40.720020</td>\n",
       "      <td>1</td>\n",
       "      <td>-73.999084</td>\n",
       "      <td>40.744381</td>\n",
       "      <td>12.5</td>\n",
       "    </tr>\n",
       "    <tr>\n",
       "      <th>4</th>\n",
       "      <td>2015-10-01 00:00:01</td>\n",
       "      <td>2015-10-01 00:16:19</td>\n",
       "      <td>1</td>\n",
       "      <td>3.80</td>\n",
       "      <td>-73.984016</td>\n",
       "      <td>40.755222</td>\n",
       "      <td>1</td>\n",
       "      <td>-73.959869</td>\n",
       "      <td>40.801323</td>\n",
       "      <td>15.5</td>\n",
       "    </tr>\n",
       "    <tr>\n",
       "      <th>5</th>\n",
       "      <td>2015-10-01 00:00:01</td>\n",
       "      <td>2015-10-01 00:13:41</td>\n",
       "      <td>1</td>\n",
       "      <td>3.10</td>\n",
       "      <td>-73.975296</td>\n",
       "      <td>40.751396</td>\n",
       "      <td>1</td>\n",
       "      <td>-73.970924</td>\n",
       "      <td>40.785984</td>\n",
       "      <td>12.5</td>\n",
       "    </tr>\n",
       "  </tbody>\n",
       "</table>\n",
       "</div>"
      ],
      "text/plain": [
       "      pickup_datetime    dropoff_datetime  passenger_count  trip_distance  \\\n",
       "0 2015-10-01 00:00:00 2015-10-01 00:05:48                1           1.10   \n",
       "1 2015-10-01 00:00:00 2015-10-01 00:00:00                1           7.68   \n",
       "2 2015-10-01 00:00:00 2015-10-01 00:00:00                2           2.53   \n",
       "4 2015-10-01 00:00:01 2015-10-01 00:16:19                1           3.80   \n",
       "5 2015-10-01 00:00:01 2015-10-01 00:13:41                1           3.10   \n",
       "\n",
       "   pickup_longitude  pickup_latitude  rate_code  dropoff_longitude  \\\n",
       "0        -73.935516        40.761238          1         -73.944351   \n",
       "1        -73.989937        40.743439          1         -73.986687   \n",
       "2        -73.987328        40.720020          1         -73.999084   \n",
       "4        -73.984016        40.755222          1         -73.959869   \n",
       "5        -73.975296        40.751396          1         -73.970924   \n",
       "\n",
       "   dropoff_latitude  fare_amount  \n",
       "0         40.754578          6.0  \n",
       "1         40.689129         27.5  \n",
       "2         40.744381         12.5  \n",
       "4         40.801323         15.5  \n",
       "5         40.785984         12.5  "
      ]
     },
     "execution_count": 50,
     "metadata": {},
     "output_type": "execute_result"
    }
   ],
   "source": [
    "# apply a list of filter conditions to throw out records with missing or outlier values\n",
    "query_frags = [\n",
    "    'fare_amount > 0 and fare_amount < 500',\n",
    "    'passenger_count > 0 and passenger_count < 6',\n",
    "    'pickup_longitude > -75 and pickup_longitude < -73',\n",
    "    'dropoff_longitude > -75 and dropoff_longitude < -73',\n",
    "    'pickup_latitude > 40 and pickup_latitude < 42',\n",
    "    'dropoff_latitude > 40 and dropoff_latitude < 42'\n",
    "]\n",
    "taxi_df = taxi_df.query(' and '.join(query_frags))\n",
    "\n",
    "# inspect the results of cleaning\n",
    "taxi_df.head().to_pandas()"
   ]
  },
  {
   "cell_type": "code",
   "execution_count": 51,
   "metadata": {},
   "outputs": [],
   "source": [
    "import math\n",
    "from math import cos, sin, asin, sqrt, pi\n",
    "import numpy as np\n",
    "\n",
    "def haversine_distance_kernel(pickup_latitude, pickup_longitude, dropoff_latitude, dropoff_longitude, h_distance):\n",
    "    for i, (x_1, y_1, x_2, y_2) in enumerate(zip(pickup_latitude, pickup_longitude, dropoff_latitude, dropoff_longitude)):\n",
    "        x_1 = pi/180 * x_1\n",
    "        y_1 = pi/180 * y_1\n",
    "        x_2 = pi/180 * x_2\n",
    "        y_2 = pi/180 * y_2\n",
    "        \n",
    "        dlon = y_2 - y_1\n",
    "        dlat = x_2 - x_1\n",
    "        a = sin(dlat/2)**2 + cos(x_1) * cos(x_2) * sin(dlon/2)**2\n",
    "        \n",
    "        c = 2 * asin(sqrt(a)) \n",
    "        r = 6371 # Radius of earth in kilometers\n",
    "        \n",
    "        h_distance[i] = c * r\n",
    "\n",
    "def day_of_the_week_kernel(day, month, year, day_of_week):\n",
    "    for i, (d_1, m_1, y_1) in enumerate(zip(day, month, year)):\n",
    "        if month[i] <3:\n",
    "            shift = month[i]\n",
    "        else:\n",
    "            shift = 0\n",
    "        Y = year[i] - (month[i] < 3)\n",
    "        y = Y - 2000\n",
    "        c = 20\n",
    "        d = day[i]\n",
    "        m = month[i] + shift + 1\n",
    "        day_of_week[i] = (d + math.floor(m*2.6) + y + (y//4) + (c//4) -2*c)%7\n",
    "        \n",
    "def add_features(df):\n",
    "    df['hour'] = df['pickup_datetime'].dt.hour\n",
    "    df['year'] = df['pickup_datetime'].dt.year\n",
    "    df['month'] = df['pickup_datetime'].dt.month\n",
    "    df['day'] = df['pickup_datetime'].dt.day\n",
    "    df['diff'] = df['dropoff_datetime'].astype('int32') - df['pickup_datetime'].astype('int32')\n",
    "    \n",
    "    df['pickup_latitude_r'] = df['pickup_latitude']//.01*.01\n",
    "    df['pickup_longitude_r'] = df['pickup_longitude']//.01*.01\n",
    "    df['dropoff_latitude_r'] = df['dropoff_latitude']//.01*.01\n",
    "    df['dropoff_longitude_r'] = df['dropoff_longitude']//.01*.01\n",
    "    \n",
    "    df = df.drop('pickup_datetime')\n",
    "    df = df.drop('dropoff_datetime')\n",
    "    \n",
    "    \n",
    "    df = df.apply_rows(haversine_distance_kernel,\n",
    "                   incols=['pickup_latitude', 'pickup_longitude', 'dropoff_latitude', 'dropoff_longitude'],\n",
    "                   outcols=dict(h_distance=np.float32),\n",
    "                   kwargs=dict())\n",
    "    \n",
    "    \n",
    "    df = df.apply_rows(day_of_the_week_kernel,\n",
    "                      incols=['day', 'month', 'year'],\n",
    "                      outcols=dict(day_of_week=np.float32),\n",
    "                      kwargs=dict())\n",
    "    \n",
    "    \n",
    "    df['is_weekend'] = (df['day_of_week']<2)\n",
    "    return df"
   ]
  },
  {
   "cell_type": "code",
   "execution_count": 52,
   "metadata": {},
   "outputs": [
    {
     "data": {
      "text/html": [
       "<div>\n",
       "<style scoped>\n",
       "    .dataframe tbody tr th:only-of-type {\n",
       "        vertical-align: middle;\n",
       "    }\n",
       "\n",
       "    .dataframe tbody tr th {\n",
       "        vertical-align: top;\n",
       "    }\n",
       "\n",
       "    .dataframe thead th {\n",
       "        text-align: right;\n",
       "    }\n",
       "</style>\n",
       "<table border=\"1\" class=\"dataframe\">\n",
       "  <thead>\n",
       "    <tr style=\"text-align: right;\">\n",
       "      <th></th>\n",
       "      <th>passenger_count</th>\n",
       "      <th>trip_distance</th>\n",
       "      <th>pickup_longitude</th>\n",
       "      <th>pickup_latitude</th>\n",
       "      <th>rate_code</th>\n",
       "      <th>dropoff_longitude</th>\n",
       "      <th>dropoff_latitude</th>\n",
       "      <th>fare_amount</th>\n",
       "      <th>hour</th>\n",
       "      <th>year</th>\n",
       "      <th>month</th>\n",
       "      <th>day</th>\n",
       "      <th>diff</th>\n",
       "      <th>pickup_latitude_r</th>\n",
       "      <th>pickup_longitude_r</th>\n",
       "      <th>dropoff_latitude_r</th>\n",
       "      <th>dropoff_longitude_r</th>\n",
       "      <th>h_distance</th>\n",
       "      <th>day_of_week</th>\n",
       "      <th>is_weekend</th>\n",
       "    </tr>\n",
       "  </thead>\n",
       "  <tbody>\n",
       "    <tr>\n",
       "      <th>0</th>\n",
       "      <td>1</td>\n",
       "      <td>1.10</td>\n",
       "      <td>-73.935516</td>\n",
       "      <td>40.761238</td>\n",
       "      <td>1</td>\n",
       "      <td>-73.944351</td>\n",
       "      <td>40.754578</td>\n",
       "      <td>6.0</td>\n",
       "      <td>0</td>\n",
       "      <td>2015</td>\n",
       "      <td>10</td>\n",
       "      <td>1</td>\n",
       "      <td>348000</td>\n",
       "      <td>40.759998</td>\n",
       "      <td>-73.939995</td>\n",
       "      <td>40.750000</td>\n",
       "      <td>-73.949997</td>\n",
       "      <td>1.049876</td>\n",
       "      <td>5.0</td>\n",
       "      <td>False</td>\n",
       "    </tr>\n",
       "    <tr>\n",
       "      <th>1</th>\n",
       "      <td>1</td>\n",
       "      <td>7.68</td>\n",
       "      <td>-73.989937</td>\n",
       "      <td>40.743439</td>\n",
       "      <td>1</td>\n",
       "      <td>-73.986687</td>\n",
       "      <td>40.689129</td>\n",
       "      <td>27.5</td>\n",
       "      <td>0</td>\n",
       "      <td>2015</td>\n",
       "      <td>10</td>\n",
       "      <td>1</td>\n",
       "      <td>0</td>\n",
       "      <td>40.739998</td>\n",
       "      <td>-73.989998</td>\n",
       "      <td>40.680000</td>\n",
       "      <td>-73.989998</td>\n",
       "      <td>6.045188</td>\n",
       "      <td>5.0</td>\n",
       "      <td>False</td>\n",
       "    </tr>\n",
       "    <tr>\n",
       "      <th>2</th>\n",
       "      <td>2</td>\n",
       "      <td>2.53</td>\n",
       "      <td>-73.987328</td>\n",
       "      <td>40.720020</td>\n",
       "      <td>1</td>\n",
       "      <td>-73.999084</td>\n",
       "      <td>40.744381</td>\n",
       "      <td>12.5</td>\n",
       "      <td>0</td>\n",
       "      <td>2015</td>\n",
       "      <td>10</td>\n",
       "      <td>1</td>\n",
       "      <td>0</td>\n",
       "      <td>40.719997</td>\n",
       "      <td>-73.989998</td>\n",
       "      <td>40.739998</td>\n",
       "      <td>-74.000000</td>\n",
       "      <td>2.884243</td>\n",
       "      <td>5.0</td>\n",
       "      <td>False</td>\n",
       "    </tr>\n",
       "    <tr>\n",
       "      <th>4</th>\n",
       "      <td>1</td>\n",
       "      <td>3.80</td>\n",
       "      <td>-73.984016</td>\n",
       "      <td>40.755222</td>\n",
       "      <td>1</td>\n",
       "      <td>-73.959869</td>\n",
       "      <td>40.801323</td>\n",
       "      <td>15.5</td>\n",
       "      <td>0</td>\n",
       "      <td>2015</td>\n",
       "      <td>10</td>\n",
       "      <td>1</td>\n",
       "      <td>978000</td>\n",
       "      <td>40.750000</td>\n",
       "      <td>-73.989998</td>\n",
       "      <td>40.799999</td>\n",
       "      <td>-73.959999</td>\n",
       "      <td>5.514657</td>\n",
       "      <td>5.0</td>\n",
       "      <td>False</td>\n",
       "    </tr>\n",
       "    <tr>\n",
       "      <th>5</th>\n",
       "      <td>1</td>\n",
       "      <td>3.10</td>\n",
       "      <td>-73.975296</td>\n",
       "      <td>40.751396</td>\n",
       "      <td>1</td>\n",
       "      <td>-73.970924</td>\n",
       "      <td>40.785984</td>\n",
       "      <td>12.5</td>\n",
       "      <td>0</td>\n",
       "      <td>2015</td>\n",
       "      <td>10</td>\n",
       "      <td>1</td>\n",
       "      <td>820000</td>\n",
       "      <td>40.750000</td>\n",
       "      <td>-73.979996</td>\n",
       "      <td>40.779999</td>\n",
       "      <td>-73.979996</td>\n",
       "      <td>3.863575</td>\n",
       "      <td>5.0</td>\n",
       "      <td>False</td>\n",
       "    </tr>\n",
       "  </tbody>\n",
       "</table>\n",
       "</div>"
      ],
      "text/plain": [
       "   passenger_count  trip_distance  pickup_longitude  pickup_latitude  \\\n",
       "0                1           1.10        -73.935516        40.761238   \n",
       "1                1           7.68        -73.989937        40.743439   \n",
       "2                2           2.53        -73.987328        40.720020   \n",
       "4                1           3.80        -73.984016        40.755222   \n",
       "5                1           3.10        -73.975296        40.751396   \n",
       "\n",
       "   rate_code  dropoff_longitude  dropoff_latitude  fare_amount  hour  year  \\\n",
       "0          1         -73.944351         40.754578          6.0     0  2015   \n",
       "1          1         -73.986687         40.689129         27.5     0  2015   \n",
       "2          1         -73.999084         40.744381         12.5     0  2015   \n",
       "4          1         -73.959869         40.801323         15.5     0  2015   \n",
       "5          1         -73.970924         40.785984         12.5     0  2015   \n",
       "\n",
       "   month  day    diff  pickup_latitude_r  pickup_longitude_r  \\\n",
       "0     10    1  348000          40.759998          -73.939995   \n",
       "1     10    1       0          40.739998          -73.989998   \n",
       "2     10    1       0          40.719997          -73.989998   \n",
       "4     10    1  978000          40.750000          -73.989998   \n",
       "5     10    1  820000          40.750000          -73.979996   \n",
       "\n",
       "   dropoff_latitude_r  dropoff_longitude_r  h_distance  day_of_week  \\\n",
       "0           40.750000           -73.949997    1.049876          5.0   \n",
       "1           40.680000           -73.989998    6.045188          5.0   \n",
       "2           40.739998           -74.000000    2.884243          5.0   \n",
       "4           40.799999           -73.959999    5.514657          5.0   \n",
       "5           40.779999           -73.979996    3.863575          5.0   \n",
       "\n",
       "   is_weekend  \n",
       "0       False  \n",
       "1       False  \n",
       "2       False  \n",
       "4       False  \n",
       "5       False  "
      ]
     },
     "execution_count": 52,
     "metadata": {},
     "output_type": "execute_result"
    }
   ],
   "source": [
    "# actually add the features\n",
    "taxi_df = taxi_df.map_partitions(add_features).persist()\n",
    "# inspect the result\n",
    "taxi_df.head().to_pandas()"
   ]
  },
  {
   "cell_type": "code",
   "execution_count": 53,
   "metadata": {},
   "outputs": [
    {
     "data": {
      "image/png": "[encoded data removed]",
      "text/plain": [
       "<Figure size 432x288 with 1 Axes>"
      ]
     },
     "metadata": {
      "needs_background": "light"
     },
     "output_type": "display_data"
    }
   ],
   "source": [
    "%matplotlib inline\n",
    "taxi_df.groupby('hour').fare_amount.mean().compute().to_pandas().sort_index().plot();"
   ]
  },
  {
   "cell_type": "code",
   "execution_count": 54,
   "metadata": {},
   "outputs": [
    {
     "name": "stdout",
     "output_type": "stream",
     "text": [
      "CPU times: user 381 ms, sys: 21.9 ms, total: 403 ms\n",
      "Wall time: 5.34 s\n"
     ]
    }
   ],
   "source": [
    "%%time\n",
    "X_train = taxi_df.query('day < 25').persist()\n",
    "\n",
    "# create a Y_train ddf with just the target variable\n",
    "Y_train = X_train[['fare_amount']].persist()\n",
    "# drop the target variable from the training ddf\n",
    "X_train = X_train[X_train.columns.difference(['fare_amount'])]\n",
    "\n",
    "# this wont return until all data is in GPU memory\n",
    "done = wait([X_train, Y_train])"
   ]
  },
  {
   "cell_type": "markdown",
   "metadata": {},
   "source": [
    "## Notes on training with XGBoost with Azure\n",
    "\n",
    "* Because Dask-XGBoost parses the `client` for the raw IP address, it passes `\"localhost\"` to RABIT if the `client` was configured to use `\"localhost\"` with SSH forwarding. This means Dask-XGBoost, as it exists, does not support Azure with this method.\n",
    "* There are several bugs and issues with the Dask submodule of XGBoost:\n",
    "    1. Data co-locality is not enforced (labels and data may not be on the same worker)\n",
    "    2. Data locality is not enforced (a data partition, x, may not be assigned to the worker, n, upon which it resides originally ... so, data may need to be shuffled\n",
    "\n",
    "The latter (Dask submodule of XGBoost) is being fixed in this PR: https://github.com/dmlc/xgboost/pull/4819\n",
    "\n",
    "This means the code below (Dask submodule of XGBoost) will not work, and replacing the call with Dask-XGBoost will not work."
   ]
  },
  {
   "cell_type": "code",
   "execution_count": 55,
   "metadata": {},
   "outputs": [
    {
     "ename": "NameError",
     "evalue": "name 'dask_xgboost' is not defined",
     "output_type": "error",
     "traceback": [
      "\u001b[0;31m---------------------------------------------------------------------------\u001b[0m",
      "\u001b[0;31mNameError\u001b[0m                                 Traceback (most recent call last)",
      "\u001b[0;32m<ipython-input-55-4f2b5ea36c45>\u001b[0m in \u001b[0;36m<module>\u001b[0;34m\u001b[0m\n\u001b[1;32m      8\u001b[0m }\n\u001b[1;32m      9\u001b[0m \u001b[0;34m\u001b[0m\u001b[0m\n\u001b[0;32m---> 10\u001b[0;31m \u001b[0mbst\u001b[0m \u001b[0;34m=\u001b[0m \u001b[0mdask_xgboost\u001b[0m\u001b[0;34m.\u001b[0m\u001b[0mtrain\u001b[0m\u001b[0;34m(\u001b[0m\u001b[0mclient\u001b[0m\u001b[0;34m,\u001b[0m \u001b[0mparams\u001b[0m\u001b[0;34m,\u001b[0m \u001b[0mX_train\u001b[0m\u001b[0;34m,\u001b[0m \u001b[0mY_train\u001b[0m\u001b[0;34m,\u001b[0m \u001b[0mnum_boost_round\u001b[0m\u001b[0;34m=\u001b[0m\u001b[0mparams\u001b[0m\u001b[0;34m[\u001b[0m\u001b[0;34m'num_rounds'\u001b[0m\u001b[0;34m]\u001b[0m\u001b[0;34m)\u001b[0m\u001b[0;34m\u001b[0m\u001b[0;34m\u001b[0m\u001b[0m\n\u001b[0m",
      "\u001b[0;31mNameError\u001b[0m: name 'dask_xgboost' is not defined"
     ]
    }
   ],
   "source": [
    "params = {\n",
    "  'num_rounds':   100,\n",
    "  'max_depth':    8,\n",
    "  'max_leaves':   2**8,\n",
    "  'tree_method':  'gpu_hist',\n",
    "  'objective':    'reg:squarederror',\n",
    "  'grow_policy':  'lossguide'\n",
    "}\n",
    "\n",
    "bst = dask_xgboost.train(client, params, X_train, Y_train, num_boost_round=params['num_rounds'])"
   ]
  },
  {
   "cell_type": "code",
   "execution_count": 16,
   "metadata": {},
   "outputs": [
    {
     "name": "stderr",
     "output_type": "stream",
     "text": [
      "distributed.client - ERROR - Failed to reconnect to scheduler after 10.00 seconds, closing client\n",
      "distributed.utils - ERROR - \n",
      "Traceback (most recent call last):\n",
      "  File \"/data/anaconda/envs/rapids-0.9/lib/python3.7/site-packages/distributed/utils.py\", line 666, in log_errors\n",
      "    yield\n",
      "  File \"/data/anaconda/envs/rapids-0.9/lib/python3.7/site-packages/distributed/client.py\", line 1268, in _close\n",
      "    await gen.with_timeout(timedelta(seconds=2), list(coroutines))\n",
      "concurrent.futures._base.CancelledError\n",
      "distributed.utils - ERROR - \n",
      "Traceback (most recent call last):\n",
      "  File \"/data/anaconda/envs/rapids-0.9/lib/python3.7/site-packages/distributed/utils.py\", line 666, in log_errors\n",
      "    yield\n",
      "  File \"/data/anaconda/envs/rapids-0.9/lib/python3.7/site-packages/distributed/client.py\", line 998, in _reconnect\n",
      "    await self._close()\n",
      "  File \"/data/anaconda/envs/rapids-0.9/lib/python3.7/site-packages/distributed/client.py\", line 1268, in _close\n",
      "    await gen.with_timeout(timedelta(seconds=2), list(coroutines))\n",
      "concurrent.futures._base.CancelledError\n"
     ]
    }
   ],
   "source": [
    "run.cancel()"
   ]
  },
  {
   "cell_type": "code",
   "execution_count": null,
   "metadata": {},
   "outputs": [],
   "source": []
  },
  {
   "cell_type": "code",
   "execution_count": 8,
   "metadata": {},
   "outputs": [],
   "source": [
    "run = Experiment(ws, \"init-dask-jupyter\").get_runs().__next__()"
   ]
  },
  {
   "cell_type": "code",
   "execution_count": 18,
   "metadata": {},
   "outputs": [],
   "source": [
    "run.cancel()"
   ]
  },
  {
   "cell_type": "code",
   "execution_count": 17,
   "metadata": {},
   "outputs": [
    {
     "data": {
      "text/plain": [
       "{'headnode': '172.17.0.6',\n",
       " 'scheduler': '172.17.0.6:8786',\n",
       " 'dashboard': '172.17.0.6:8787',\n",
       " 'data': '/mnt/batch/tasks/shared/LS_root/jobs/vnettest/azureml/init-dask-jupyter_1569822164_fb7a80b9/mounts/workspaceblobstore',\n",
       " 'jupyter-server': 'http://0.0.0.0:8888/'}"
      ]
     },
     "execution_count": 17,
     "metadata": {},
     "output_type": "execute_result"
    }
   ],
   "source": [
    "run.get_metrics()"
   ]
  },
  {
   "cell_type": "code",
   "execution_count": null,
   "metadata": {},
   "outputs": [],
   "source": []
  }
 ],
 "metadata": {
  "kernelspec": {
   "display_name": "Python 3",
   "language": "python",
   "name": "python3"
  },
  "language_info": {
   "codemirror_mode": {
    "name": "ipython",
    "version": 3
   },
   "file_extension": ".py",
   "mimetype": "text/x-python",
   "name": "python",
   "nbconvert_exporter": "python",
   "pygments_lexer": "ipython3",
   "version": "3.7.4"
  }
 },
 "nbformat": 4,
 "nbformat_minor": 4
}
